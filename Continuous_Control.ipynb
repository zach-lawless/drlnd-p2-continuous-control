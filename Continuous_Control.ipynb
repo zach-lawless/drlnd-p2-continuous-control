{
 "cells": [
  {
   "cell_type": "markdown",
   "metadata": {},
   "source": [
    "# Continuous Control\n",
    "\n",
    "Run this notebook end-to-end to complete Project 2 - Continuous Control of Udacity's Deep Reinforcement Learning Nanodegree program.\n",
    "\n",
    "---\n",
    "\n",
    "### 1. Start the Environment\n",
    "\n",
    "Run the next code cell to install a few packages.  This line will take a few minutes to run!"
   ]
  },
  {
   "cell_type": "code",
   "execution_count": 1,
   "metadata": {},
   "outputs": [
    {
     "name": "stdout",
     "output_type": "stream",
     "text": [
      "\u001b[31mtensorflow 1.7.1 has requirement numpy>=1.13.3, but you'll have numpy 1.12.1 which is incompatible.\u001b[0m\n",
      "\u001b[31mipython 6.5.0 has requirement prompt-toolkit<2.0.0,>=1.0.15, but you'll have prompt-toolkit 3.0.30 which is incompatible.\u001b[0m\n",
      "\u001b[31mjupyter-console 6.4.3 has requirement jupyter-client>=7.0.0, but you'll have jupyter-client 5.2.4 which is incompatible.\u001b[0m\n"
     ]
    }
   ],
   "source": [
    "!pip -q install ./python"
   ]
  },
  {
   "cell_type": "markdown",
   "metadata": {},
   "source": [
    "Import all python packages needed to execute the notebook."
   ]
  },
  {
   "cell_type": "code",
   "execution_count": 2,
   "metadata": {},
   "outputs": [],
   "source": [
    "#!curl -O https://raw.githubusercontent.com/udacity/workspaces-student-support/master/jupyter/workspace_utils.py"
   ]
  },
  {
   "cell_type": "code",
   "execution_count": 3,
   "metadata": {},
   "outputs": [],
   "source": [
    "from collections import namedtuple, deque\n",
    "import copy\n",
    "import matplotlib.pyplot as plt\n",
    "import numpy as np\n",
    "import pandas as pd\n",
    "import random\n",
    "import time\n",
    "import torch\n",
    "import torch.nn as nn\n",
    "import torch.nn.functional as F\n",
    "import torch.optim as optim\n",
    "from unityagents import UnityEnvironment\n",
    "from workspace_utils import active_session"
   ]
  },
  {
   "cell_type": "markdown",
   "metadata": {},
   "source": [
    "The environment is already saved in the Workspace and can be accessed at the file path provided below. However, if running this notebook locally, or using the single-arm environment, change `PATH_TO_ENV` to the appropriate file path.\n",
    "\n",
    "(Note: The Unity ML environments are saved in the git repo for this project)"
   ]
  },
  {
   "cell_type": "code",
   "execution_count": 4,
   "metadata": {},
   "outputs": [
    {
     "name": "stderr",
     "output_type": "stream",
     "text": [
      "INFO:unityagents:\n",
      "'Academy' started successfully!\n",
      "Unity Academy name: Academy\n",
      "        Number of Brains: 1\n",
      "        Number of External Brains : 1\n",
      "        Lesson number : 0\n",
      "        Reset Parameters :\n",
      "\t\tgoal_speed -> 1.0\n",
      "\t\tgoal_size -> 5.0\n",
      "Unity brain name: ReacherBrain\n",
      "        Number of Visual Observations (per agent): 0\n",
      "        Vector Observation space type: continuous\n",
      "        Vector Observation space size (per agent): 33\n",
      "        Number of stacked Vector Observation: 1\n",
      "        Vector Action space type: continuous\n",
      "        Vector Action space size (per agent): 4\n",
      "        Vector Action descriptions: , , , \n"
     ]
    }
   ],
   "source": [
    "#PATH_TO_ENV = \"/data/Reacher_One_Linux_NoVis/Reacher_One_Linux_NoVis.x86_64\"  # single agent path\n",
    "PATH_TO_ENV = \"/data/Reacher_Linux_NoVis/Reacher.x86_64\"  # multi-agent path\n",
    "env = UnityEnvironment(file_name=PATH_TO_ENV)"
   ]
  },
  {
   "cell_type": "markdown",
   "metadata": {},
   "source": [
    "**Aside**: Unity environments contain <b>*brains*</b> which are responsible for deciding the actions of their associated agents. Here we check for the first brain available, and set it as the default brain we will be controlling from Python."
   ]
  },
  {
   "cell_type": "code",
   "execution_count": 5,
   "metadata": {},
   "outputs": [
    {
     "name": "stdout",
     "output_type": "stream",
     "text": [
      "brain name: ReacherBrain\n",
      "brain type: <class 'unityagents.brain.BrainParameters'>\n"
     ]
    }
   ],
   "source": [
    "# get the default brain\n",
    "brain_name = env.brain_names[0]\n",
    "brain = env.brains[brain_name]\n",
    "\n",
    "print(f\"brain name: {brain_name}\\nbrain type: {type(brain)}\")"
   ]
  },
  {
   "cell_type": "markdown",
   "metadata": {},
   "source": [
    "### 2. Examine the State and Action Spaces\n",
    "\n",
    "Run the code cell below to print some information about the environment."
   ]
  },
  {
   "cell_type": "code",
   "execution_count": 6,
   "metadata": {},
   "outputs": [
    {
     "name": "stdout",
     "output_type": "stream",
     "text": [
      "Number of agents: 20\n",
      "Size of each action: 4\n",
      "There are 20 agents. Each observes a state with length: 33\n",
      "The state for the first agent looks like: [  0.00000000e+00  -4.00000000e+00   0.00000000e+00   1.00000000e+00\n",
      "  -0.00000000e+00  -0.00000000e+00  -4.37113883e-08   0.00000000e+00\n",
      "   0.00000000e+00   0.00000000e+00   0.00000000e+00   0.00000000e+00\n",
      "   0.00000000e+00   0.00000000e+00  -1.00000000e+01   0.00000000e+00\n",
      "   1.00000000e+00  -0.00000000e+00  -0.00000000e+00  -4.37113883e-08\n",
      "   0.00000000e+00   0.00000000e+00   0.00000000e+00   0.00000000e+00\n",
      "   0.00000000e+00   0.00000000e+00   5.75471878e+00  -1.00000000e+00\n",
      "   5.55726624e+00   0.00000000e+00   1.00000000e+00   0.00000000e+00\n",
      "  -1.68164849e-01]\n"
     ]
    }
   ],
   "source": [
    "# reset the environment\n",
    "env_info = env.reset(train_mode=True)[brain_name]\n",
    "\n",
    "# number of agents\n",
    "num_agents = len(env_info.agents)\n",
    "print('Number of agents:', num_agents)\n",
    "\n",
    "# size of each action\n",
    "action_size = brain.vector_action_space_size\n",
    "print('Size of each action:', action_size)\n",
    "\n",
    "# examine the state space \n",
    "states = env_info.vector_observations\n",
    "state_size = states.shape[1]\n",
    "print('There are {} agents. Each observes a state with length: {}'.format(states.shape[0], state_size))\n",
    "print('The state for the first agent looks like:', states[0])"
   ]
  },
  {
   "cell_type": "markdown",
   "metadata": {},
   "source": [
    "### 3. Take Random Actions in the Environment\n",
    "\n",
    "In the next code cell, you will learn how to use the Python API to control the agent and receive feedback from the environment."
   ]
  },
  {
   "cell_type": "code",
   "execution_count": 7,
   "metadata": {},
   "outputs": [
    {
     "name": "stdout",
     "output_type": "stream",
     "text": [
      "Total score (averaged over agents) this episode: 0.18299999590963126\n"
     ]
    }
   ],
   "source": [
    "env_info = env.reset(train_mode=True)[brain_name]      # reset the environment    \n",
    "states = env_info.vector_observations                  # get the current state (for each agent)\n",
    "scores = np.zeros(num_agents)                          # initialize the score (for each agent)\n",
    "while True:\n",
    "    actions = np.random.randn(num_agents, action_size) # select an action (for each agent)\n",
    "    actions = np.clip(actions, -1, 1)                  # all actions between -1 and 1\n",
    "    env_info = env.step(actions)[brain_name]           # send all actions to the environment\n",
    "    next_states = env_info.vector_observations         # get next state (for each agent)\n",
    "    rewards = env_info.rewards                         # get reward (for each agent)\n",
    "    dones = env_info.local_done                        # see if episode finished\n",
    "    scores += env_info.rewards                         # update the score (for each agent)\n",
    "    states = next_states                               # roll over states to next time step\n",
    "    if np.any(dones):                                  # exit loop if episode finished\n",
    "        break\n",
    "print('Total score (averaged over agents) this episode: {}'.format(np.mean(scores)))"
   ]
  },
  {
   "cell_type": "markdown",
   "metadata": {},
   "source": [
    "### 4. Train the agent\n",
    "\n",
    "**NOTE**: A majority of DDPG boilerplate code was recycled from the DDPG exercise.\n",
    "\n",
    "Now it's your turn to train your own agent to solve the environment!  A few **important notes**:\n",
    "\n",
    "- When training the environment, set `train_mode=True`, so that the line for resetting the environment looks like the following:\n",
    "\n",
    "```python\n",
    "env_info = env.reset(train_mode=True)[brain_name]\n",
    "```\n",
    "\n",
    "- In this coding environment, you will not be able to watch the agents while they are training.  However, **_after training the agents_**, you can download the saved model weights to watch the agents on your own machine! \n",
    "\n",
    "First, lets determine which device we are using. This will changed whether running this notebook on CPU or GPU hardware."
   ]
  },
  {
   "cell_type": "code",
   "execution_count": 8,
   "metadata": {},
   "outputs": [
    {
     "data": {
      "text/plain": [
       "device(type='cuda', index=0)"
      ]
     },
     "execution_count": 8,
     "metadata": {},
     "output_type": "execute_result"
    }
   ],
   "source": [
    "device = torch.device(\"cuda:0\" if torch.cuda.is_available() else \"cpu\")\n",
    "device"
   ]
  },
  {
   "cell_type": "markdown",
   "metadata": {},
   "source": [
    "The algorithm being used is the **Deep Deterministic Policy Gradient (DDPG)**. The algorithm learns both a policy and a value function at the same time through the use of an Actor (the policy) and a Critic (the value function estimator). DDPG is often considered Deep Q-Learning but when the action space is continuous, as it is for the environment we are trying to solve.\n",
    "\n",
    "Next, we need to set the value for all of the hyperparameters used during learning. "
   ]
  },
  {
   "cell_type": "code",
   "execution_count": 9,
   "metadata": {},
   "outputs": [],
   "source": [
    "BUFFER_SIZE = int(1e6)  # replay buffer size\n",
    "BATCH_SIZE = 128        # minibatch size\n",
    "GAMMA = 0.99            # discount factor\n",
    "TAU = 1e-3              # soft update ratio\n",
    "LR_ACTOR = 1e-3         # actor learning rate\n",
    "LR_CRITIC = 1e-3        # critic learning rate\n",
    "WEIGHT_DECAY = 0        # L2 weight decay\n",
    "MAX_T = 1000            # max number of timesteps per episode\n",
    "LEARN_EVERY = 20        # how many timesteps to learn after\n",
    "LEARN_NUM   = 10        # how many learning updates to run\n",
    "GRAD_CLIPPING = 1.0     # max/min to clip gradients at\n",
    "EPSILON = 1.0           # O/U noise factor\n",
    "EPSILON_DECAY = 1e-6    # O/U noise factor decay\n",
    "OU_SIGMA  = 0.2         # O/U sigma\n",
    "OU_THETA  = 0.15        # O/U theta\n",
    "SOLVED_REWARD = 30.0    # reward where environment is considered solved\n",
    "SOLVED_TIMESTEPS = 100  # min timesteps needed to solve environment"
   ]
  },
  {
   "cell_type": "markdown",
   "metadata": {},
   "source": [
    "The models we are using for the Actor and Critic are fully connected dense networks, with a batch normalization layer just after the input layer to normalize across the minibatches that are fed forward through the networks. The activation layer at the output of the Actor is a Tanh function to surpress the possible continuous actions to (-1, 1). There is no activation layer at the output of the Critic as we want to Critic to be learning the value of each state-action pair."
   ]
  },
  {
   "cell_type": "code",
   "execution_count": 10,
   "metadata": {},
   "outputs": [],
   "source": [
    "def hidden_init(layer):\n",
    "    fan_in = layer.weight.data.size()[0]\n",
    "    lim = 1. / np.sqrt(fan_in)\n",
    "    return (-lim, lim)\n",
    "\n",
    "class Actor(nn.Module):\n",
    "    \"\"\"Actor (Policy) Model.\"\"\"\n",
    "\n",
    "    def __init__(self, state_size, action_size, seed, fc1_units=400, fc2_units=300):\n",
    "        \"\"\"Initialize parameters and build model.\n",
    "        Params\n",
    "        ======\n",
    "            state_size (int): Dimension of each state\n",
    "            action_size (int): Dimension of each action\n",
    "            seed (int): Random seed\n",
    "            fc1_units (int): Number of nodes in first hidden layer\n",
    "            fc2_units (int): Number of nodes in second hidden layer\n",
    "        \"\"\"\n",
    "        super(Actor, self).__init__()\n",
    "        self.seed = torch.manual_seed(seed)\n",
    "        self.fc1 = nn.Linear(state_size, fc1_units)\n",
    "        self.bn1 = nn.BatchNorm1d(fc1_units)\n",
    "        self.fc2 = nn.Linear(fc1_units, fc2_units)\n",
    "        self.fc3 = nn.Linear(fc2_units, action_size)\n",
    "        self.reset_parameters()\n",
    "\n",
    "    def reset_parameters(self):\n",
    "        self.fc1.weight.data.uniform_(*hidden_init(self.fc1))\n",
    "        self.fc2.weight.data.uniform_(*hidden_init(self.fc2))\n",
    "        self.fc3.weight.data.uniform_(-3e-3, 3e-3)\n",
    "\n",
    "    def forward(self, state):\n",
    "        \"\"\"Build an actor (policy) network that maps states -> actions.\"\"\"\n",
    "        x = F.relu(self.bn1(self.fc1(state)))\n",
    "        x = F.relu(self.fc2(x))\n",
    "        return torch.tanh(self.fc3(x))\n",
    "\n",
    "\n",
    "class Critic(nn.Module):\n",
    "    \"\"\"Critic (Value) Model.\"\"\"\n",
    "\n",
    "    def __init__(self, state_size, action_size, seed, fcs1_units=400, fc2_units=300):\n",
    "        \"\"\"Initialize parameters and build model.\n",
    "        Params\n",
    "        ======\n",
    "            state_size (int): Dimension of each state\n",
    "            action_size (int): Dimension of each action\n",
    "            seed (int): Random seed\n",
    "            fcs1_units (int): Number of nodes in the first hidden layer\n",
    "            fc2_units (int): Number of nodes in the second hidden layer\n",
    "        \"\"\"\n",
    "        super(Critic, self).__init__()\n",
    "        self.seed = torch.manual_seed(seed)\n",
    "        self.fcs1 = nn.Linear(state_size, fcs1_units)\n",
    "        self.bn1 = nn.BatchNorm1d(fcs1_units)\n",
    "        self.fc2 = nn.Linear(fcs1_units+action_size, fc2_units)\n",
    "        self.fc3 = nn.Linear(fc2_units, 1)\n",
    "        self.reset_parameters()\n",
    "\n",
    "    def reset_parameters(self):\n",
    "        self.fcs1.weight.data.uniform_(*hidden_init(self.fcs1))\n",
    "        self.fc2.weight.data.uniform_(*hidden_init(self.fc2))\n",
    "        self.fc3.weight.data.uniform_(-3e-3, 3e-3)\n",
    "\n",
    "    def forward(self, state, action):\n",
    "        \"\"\"Build a critic (value) network that maps (state, action) pairs -> Q-values.\"\"\"\n",
    "        xs = F.relu(self.bn1(self.fcs1(state)))\n",
    "        x = torch.cat((xs, action), dim=1)\n",
    "        x = F.relu(self.fc2(x))\n",
    "        return self.fc3(x)"
   ]
  },
  {
   "cell_type": "markdown",
   "metadata": {},
   "source": [
    "The Agent contains both a local and target version of the Actor and Critic, which helps to stablize learning. We add Ornstein-Uhlenbeck noise to the action process to simulate the same type of exploration-exploitation behavior in traditional DQN, with this noise factor decaying over time.\n",
    "\n",
    "The Agent contains a Replay Buffer where we store experiences to sample from during learning. As the Agent interacts with the environment, experiences are added to the buffer for later use. The older experiences will fall out of the buffer as new ones are added.\n",
    "\n",
    "In order to promote smooth learning, we include a soft update of the target network parameters from the local networks parameters for both the Actor and the Critic. This insures we don't take too large of steps in the learning process. We can also control learning by performing `n` forward and back prop passes every `m` timesteps."
   ]
  },
  {
   "cell_type": "code",
   "execution_count": 11,
   "metadata": {},
   "outputs": [],
   "source": [
    "class OUNoise:\n",
    "    \"\"\"Ornstein-Uhlenbeck process.\"\"\"\n",
    "\n",
    "    def __init__(self, size, seed, mu=0., theta=OU_THETA, sigma=OU_SIGMA):\n",
    "        \"\"\"Initialize parameters and noise process.\"\"\"\n",
    "        self.mu = mu * np.ones(size)\n",
    "        self.theta = theta\n",
    "        self.sigma = sigma\n",
    "        self.seed = random.seed(seed)\n",
    "        self.reset()\n",
    "\n",
    "    def reset(self):\n",
    "        \"\"\"Reset the internal state (= noise) to mean (mu).\"\"\"\n",
    "        self.state = copy.copy(self.mu)\n",
    "\n",
    "    def sample(self):\n",
    "        \"\"\"Update internal state and return it as a noise sample.\"\"\"\n",
    "        x = self.state\n",
    "        dx = self.theta * (self.mu - x) + self.sigma * np.array([random.random() for i in range(len(x))])\n",
    "        self.state = x + dx\n",
    "        return self.state"
   ]
  },
  {
   "cell_type": "code",
   "execution_count": 12,
   "metadata": {},
   "outputs": [],
   "source": [
    "class ReplayBuffer:\n",
    "    \"\"\"Fixed-size buffer to store experience tuples.\"\"\"\n",
    "\n",
    "    def __init__(self, action_size, buffer_size, batch_size, seed):\n",
    "        \"\"\"Initialize a ReplayBuffer object.\n",
    "        Params\n",
    "        ======\n",
    "            buffer_size (int): maximum size of buffer\n",
    "            batch_size (int): size of each training batch\n",
    "        \"\"\"\n",
    "        self.action_size = action_size\n",
    "        self.memory = deque(maxlen=buffer_size)  # internal memory (deque)\n",
    "        self.batch_size = batch_size\n",
    "        self.experience = namedtuple(\"Experience\", field_names=[\"state\", \"action\", \"reward\", \"next_state\", \"done\"])\n",
    "        self.seed = random.seed(seed)\n",
    "    \n",
    "    def add(self, state, action, reward, next_state, done):\n",
    "        \"\"\"Add a new experience to memory.\"\"\"\n",
    "        e = self.experience(state, action, reward, next_state, done)\n",
    "        self.memory.append(e)\n",
    "    \n",
    "    def sample(self):\n",
    "        \"\"\"Randomly sample a batch of experiences from memory.\"\"\"\n",
    "        experiences = random.sample(self.memory, k=self.batch_size)\n",
    "\n",
    "        states = torch.from_numpy(np.vstack([e.state for e in experiences if e is not None])).float().to(device)\n",
    "        actions = torch.from_numpy(np.vstack([e.action for e in experiences if e is not None])).float().to(device)\n",
    "        rewards = torch.from_numpy(np.vstack([e.reward for e in experiences if e is not None])).float().to(device)\n",
    "        next_states = torch.from_numpy(np.vstack([e.next_state for e in experiences if e is not None])).float().to(device)\n",
    "        dones = torch.from_numpy(np.vstack([e.done for e in experiences if e is not None]).astype(np.uint8)).float().to(device)\n",
    "\n",
    "        return (states, actions, rewards, next_states, dones)\n",
    "\n",
    "    def __len__(self):\n",
    "        \"\"\"Return the current size of internal memory.\"\"\"\n",
    "        return len(self.memory)"
   ]
  },
  {
   "cell_type": "code",
   "execution_count": 13,
   "metadata": {},
   "outputs": [],
   "source": [
    "class Agent():\n",
    "    \"\"\"Interacts with and learns from the environment.\"\"\"\n",
    "    \n",
    "    def __init__(self, state_size, action_size, random_seed=0):\n",
    "        \"\"\"Initialize an Agent object.\n",
    "        \n",
    "        Params\n",
    "        ======\n",
    "            state_size (int): dimension of each state\n",
    "            action_size (int): dimension of each action\n",
    "            random_seed (int): random seed\n",
    "        \"\"\"\n",
    "        self.state_size = state_size\n",
    "        self.action_size = action_size\n",
    "        self.seed = random.seed(random_seed)\n",
    "\n",
    "        self.epsilon = EPSILON\n",
    "\n",
    "        # Actor Network (w/ Target Network)\n",
    "        self.actor_local = Actor(state_size, action_size, random_seed).to(device)\n",
    "        self.actor_target = Actor(state_size, action_size, random_seed).to(device)\n",
    "        self.actor_optimizer = optim.Adam(self.actor_local.parameters(), lr=LR_ACTOR)\n",
    "\n",
    "        # Critic Network (w/ Target Network)\n",
    "        self.critic_local = Critic(state_size, action_size, random_seed).to(device)\n",
    "        self.critic_target = Critic(state_size, action_size, random_seed).to(device)\n",
    "        self.critic_optimizer = optim.Adam(self.critic_local.parameters(), lr=LR_CRITIC, weight_decay=WEIGHT_DECAY)\n",
    "\n",
    "        # Noise process\n",
    "        self.noise = OUNoise(action_size, random_seed)\n",
    "\n",
    "        # Replay memory\n",
    "        self.memory = ReplayBuffer(action_size, BUFFER_SIZE, BATCH_SIZE, random_seed)\n",
    "    \n",
    "    def step(self, state, action, reward, next_state, done, timestep):\n",
    "        \"\"\"Save experience in replay memory, and use random sample from buffer to learn.\"\"\"\n",
    "        \n",
    "        # Save experience / reward\n",
    "        # If updating in batches, then add the last memory of the agents (e.g. 20 agents) to a buffer\n",
    "        # and if we've met batch size only push to learn in multiples of whatever LEARN_NUM specifies (e.g.10)\n",
    "        self.memory.add(state, action, reward, next_state, done)\n",
    "\n",
    "        # Learn, if enough samples are available in memory\n",
    "        if len(self.memory) > BATCH_SIZE and timestep % LEARN_EVERY == 0:\n",
    "            for _ in range(LEARN_NUM):\n",
    "                experiences = self.memory.sample()\n",
    "                self.learn(experiences, GAMMA)\n",
    "\n",
    "    def act(self, state, add_noise=True):\n",
    "        \"\"\"Returns actions for given state as per current policy.\"\"\"\n",
    "        state = torch.from_numpy(state).float().to(device)\n",
    "        self.actor_local.eval()\n",
    "        with torch.no_grad():\n",
    "            action = self.actor_local(state).cpu().data.numpy()\n",
    "        self.actor_local.train()\n",
    "\n",
    "        if add_noise:\n",
    "            action += self.epsilon * self.noise.sample()\n",
    "\n",
    "        return np.clip(action, -1, 1)\n",
    "\n",
    "    def reset(self):\n",
    "        self.noise.reset()\n",
    "\n",
    "    def learn(self, experiences, gamma):\n",
    "        \"\"\"Update policy and value parameters using given batch of experience tuples.\n",
    "        Q_targets = r + γ * critic_target(next_state, actor_target(next_state))\n",
    "        where:\n",
    "            actor_target(state) -> action\n",
    "            critic_target(state, action) -> Q-value\n",
    "\n",
    "        Params\n",
    "        ======\n",
    "            experiences (Tuple[torch.Tensor]): tuple of (s, a, r, s', done) tuples \n",
    "            gamma (float): discount factor\n",
    "        \"\"\"\n",
    "        states, actions, rewards, next_states, dones = experiences\n",
    "\n",
    "        # ---------------------------- update critic ---------------------------- #\n",
    "        # Get predicted next-state actions and Q values from target models\n",
    "        actions_next = self.actor_target(next_states)\n",
    "        Q_targets_next = self.critic_target(next_states, actions_next)\n",
    "        # Compute Q targets for current states (y_i)\n",
    "        Q_targets = rewards + (gamma * Q_targets_next * (1 - dones))\n",
    "        # Compute critic loss\n",
    "        Q_expected = self.critic_local(states, actions)\n",
    "        critic_loss = F.mse_loss(Q_expected, Q_targets)\n",
    "        # Minimize the loss\n",
    "        self.critic_optimizer.zero_grad()\n",
    "        critic_loss.backward()\n",
    "        # gradient clipping for critic\n",
    "        if GRAD_CLIPPING > 0:\n",
    "            torch.nn.utils.clip_grad_norm_(self.critic_local.parameters(), GRAD_CLIPPING)\n",
    "        self.critic_optimizer.step()\n",
    "\n",
    "        # ---------------------------- update actor ---------------------------- #\n",
    "        # Compute actor loss\n",
    "        actions_pred = self.actor_local(states)\n",
    "        actor_loss = -self.critic_local(states, actions_pred).mean()\n",
    "        # Minimize the loss\n",
    "        self.actor_optimizer.zero_grad()\n",
    "        actor_loss.backward()\n",
    "        self.actor_optimizer.step()\n",
    "\n",
    "        # ----------------------- update target networks ----------------------- #\n",
    "        self.soft_update(self.critic_local, self.critic_target, TAU)\n",
    "        self.soft_update(self.actor_local, self.actor_target, TAU)    \n",
    "\n",
    "        # --------------------- and update epsilon decay ----------------------- # \n",
    "        if EPSILON_DECAY > 0:                \n",
    "            self.epsilon -= EPSILON_DECAY\n",
    "            self.noise.reset()\n",
    "\n",
    "    def soft_update(self, local_model, target_model, tau):\n",
    "        \"\"\"Soft update model parameters.\n",
    "        θ_target = τ*θ_local + (1 - τ)*θ_target\n",
    "\n",
    "        Params\n",
    "        ======\n",
    "            local_model: PyTorch model (weights will be copied from)\n",
    "            target_model: PyTorch model (weights will be copied to)\n",
    "            tau (float): interpolation parameter \n",
    "        \"\"\"\n",
    "        for target_param, local_param in zip(target_model.parameters(), local_model.parameters()):\n",
    "            target_param.data.copy_(tau*local_param.data + (1.0-tau)*target_param.data)"
   ]
  },
  {
   "cell_type": "markdown",
   "metadata": {},
   "source": [
    "Lets initialize the Agent and print the network architecture for the Actor and Critic."
   ]
  },
  {
   "cell_type": "code",
   "execution_count": 14,
   "metadata": {},
   "outputs": [
    {
     "name": "stdout",
     "output_type": "stream",
     "text": [
      "Actor architecture\n",
      "Actor(\n",
      "  (fc1): Linear(in_features=33, out_features=400, bias=True)\n",
      "  (bn1): BatchNorm1d(400, eps=1e-05, momentum=0.1, affine=True, track_running_stats=True)\n",
      "  (fc2): Linear(in_features=400, out_features=300, bias=True)\n",
      "  (fc3): Linear(in_features=300, out_features=4, bias=True)\n",
      ")\n",
      "Critic architecture\n",
      "Critic(\n",
      "  (fcs1): Linear(in_features=33, out_features=400, bias=True)\n",
      "  (bn1): BatchNorm1d(400, eps=1e-05, momentum=0.1, affine=True, track_running_stats=True)\n",
      "  (fc2): Linear(in_features=404, out_features=300, bias=True)\n",
      "  (fc3): Linear(in_features=300, out_features=1, bias=True)\n",
      ")\n"
     ]
    }
   ],
   "source": [
    "agent = Agent(state_size=state_size, action_size=action_size, random_seed=0)\n",
    "\n",
    "print(\"Actor architecture\")\n",
    "print(agent.actor_local)\n",
    "\n",
    "print(\"Critic architecture\")\n",
    "print(agent.critic_local)"
   ]
  },
  {
   "cell_type": "markdown",
   "metadata": {},
   "source": [
    "The DDPG training algorithm is defined in the function below. This is where the Agent interacts with the environment, saves experiences, and performs learning.\n",
    "\n",
    "The function prints out status messages showing the progress of learning, and completes once the environment has been considered solved (average score of 30 over the previos 100 episodes)"
   ]
  },
  {
   "cell_type": "code",
   "execution_count": 15,
   "metadata": {},
   "outputs": [],
   "source": [
    "def ddpg(n_episodes=1000,\n",
    "         max_t=1000,\n",
    "         print_every=1):\n",
    "    \"\"\"Deep Deterministic Policy Gradient (DDPG)\n",
    "    \n",
    "    Params\n",
    "    ======\n",
    "        n_episodes  (int)   : maximum number of training episodes\n",
    "        max_t       (int)   : maximum number of timesteps per episode\n",
    "        print_every (int)   : interval to display results\n",
    "        \n",
    "    Returns\n",
    "    =======\n",
    "        scores (list)       : list of mean scores for each episode\n",
    "    \"\"\"\n",
    "    \n",
    "    mean_scores = []                               # list of mean scores from each episode\n",
    "    scores_window = deque(maxlen=100)              # mean scores from most recent 100 episodes\n",
    "    \n",
    "    for i_episode in range(1, n_episodes+1):\n",
    "        \n",
    "        env_info = env.reset(train_mode=True)[brain_name]  # reset the environment    \n",
    "        states = env_info.vector_observations              # get the current state (for each agent)\n",
    "        scores = np.zeros(num_agents)                      # initialize score for each agent\n",
    "        agent.reset()                                      # reset the agent\n",
    "        t0 = time.time()\n",
    "        \n",
    "        for t in range(max_t):\n",
    "            actions = agent.act(states, add_noise=True)    # select an action\n",
    "            \n",
    "            env_info = env.step(actions)[brain_name]       # send all actions to the environment\n",
    "            next_states = env_info.vector_observations     # get next state\n",
    "            rewards = env_info.rewards                     # get reward\n",
    "            dones = env_info.local_done                    # check if episode finished\n",
    "            \n",
    "            # save experience to replay buffer\n",
    "            # perform learning step per hyperparameters\n",
    "            for _s, _a, _r, _ns, _d in zip(states, actions, rewards, next_states, dones):\n",
    "                agent.step(_s, _a, _r, _ns, _d, t)             \n",
    "            \n",
    "            states = next_states\n",
    "            scores += rewards        \n",
    "            \n",
    "            if np.any(dones):                              # exit loop when episode ends\n",
    "                break\n",
    "\n",
    "        episode_mean_score = np.mean(scores)               # calculate episode mean score\n",
    "        mean_scores.append(episode_mean_score)             # save mean score for the episode\n",
    "        scores_window.append(episode_mean_score)           # save mean score to window\n",
    "        running_mean = np.mean(scores_window)\n",
    "        \n",
    "        if i_episode % print_every == 0:\n",
    "            _d = round(time.time() - t0)\n",
    "            _m = round(episode_mean_score, 2)\n",
    "            _ma = round(running_mean, 2)\n",
    "            print(f'\\rEpisode {i_episode} ({_d}s)\\tMean: {_m}\\tMoving Avg: {_ma}')\n",
    "                  \n",
    "        if running_mean >= SOLVED_REWARD and i_episode >= SOLVED_TIMESTEPS:\n",
    "            print(f'\\nEnvironment solved in {i_episode} episodes!\\tAverage Score: {running_mean}')            \n",
    "            break\n",
    "            \n",
    "    return mean_scores"
   ]
  },
  {
   "cell_type": "markdown",
   "metadata": {},
   "source": [
    "Keep the environment running with helper function from Udacity."
   ]
  },
  {
   "cell_type": "code",
   "execution_count": 16,
   "metadata": {},
   "outputs": [
    {
     "name": "stdout",
     "output_type": "stream",
     "text": [
      "Episode 1 (114s)\tMean: 0.73\tMoving Avg: 0.73\n",
      "Episode 2 (117s)\tMean: 1.5\tMoving Avg: 1.12\n",
      "Episode 3 (117s)\tMean: 2.28\tMoving Avg: 1.5\n",
      "Episode 4 (119s)\tMean: 2.78\tMoving Avg: 1.82\n",
      "Episode 5 (120s)\tMean: 3.31\tMoving Avg: 2.12\n",
      "Episode 6 (122s)\tMean: 2.99\tMoving Avg: 2.27\n",
      "Episode 7 (121s)\tMean: 3.51\tMoving Avg: 2.44\n",
      "Episode 8 (122s)\tMean: 4.11\tMoving Avg: 2.65\n",
      "Episode 9 (122s)\tMean: 5.31\tMoving Avg: 2.95\n",
      "Episode 10 (126s)\tMean: 7.02\tMoving Avg: 3.35\n",
      "Episode 11 (123s)\tMean: 7.5\tMoving Avg: 3.73\n",
      "Episode 12 (124s)\tMean: 6.24\tMoving Avg: 3.94\n",
      "Episode 13 (126s)\tMean: 7.94\tMoving Avg: 4.25\n",
      "Episode 14 (129s)\tMean: 8.86\tMoving Avg: 4.58\n",
      "Episode 15 (131s)\tMean: 8.85\tMoving Avg: 4.86\n",
      "Episode 16 (134s)\tMean: 10.54\tMoving Avg: 5.22\n",
      "Episode 17 (136s)\tMean: 10.75\tMoving Avg: 5.54\n",
      "Episode 18 (138s)\tMean: 11.49\tMoving Avg: 5.87\n",
      "Episode 19 (138s)\tMean: 11.45\tMoving Avg: 6.17\n",
      "Episode 20 (141s)\tMean: 13.79\tMoving Avg: 6.55\n",
      "Episode 21 (143s)\tMean: 13.64\tMoving Avg: 6.89\n",
      "Episode 22 (146s)\tMean: 14.11\tMoving Avg: 7.21\n",
      "Episode 23 (148s)\tMean: 13.58\tMoving Avg: 7.49\n",
      "Episode 24 (150s)\tMean: 13.15\tMoving Avg: 7.73\n",
      "Episode 25 (152s)\tMean: 12.61\tMoving Avg: 7.92\n",
      "Episode 26 (154s)\tMean: 14.09\tMoving Avg: 8.16\n",
      "Episode 27 (157s)\tMean: 14.85\tMoving Avg: 8.41\n",
      "Episode 28 (160s)\tMean: 14.81\tMoving Avg: 8.64\n",
      "Episode 29 (162s)\tMean: 15.46\tMoving Avg: 8.87\n",
      "Episode 30 (165s)\tMean: 16.0\tMoving Avg: 9.11\n",
      "Episode 31 (167s)\tMean: 16.4\tMoving Avg: 9.34\n",
      "Episode 32 (170s)\tMean: 18.19\tMoving Avg: 9.62\n",
      "Episode 33 (172s)\tMean: 18.18\tMoving Avg: 9.88\n",
      "Episode 34 (175s)\tMean: 17.72\tMoving Avg: 10.11\n",
      "Episode 35 (178s)\tMean: 18.44\tMoving Avg: 10.35\n",
      "Episode 36 (180s)\tMean: 18.65\tMoving Avg: 10.58\n",
      "Episode 37 (180s)\tMean: 19.82\tMoving Avg: 10.83\n",
      "Episode 38 (181s)\tMean: 19.91\tMoving Avg: 11.07\n",
      "Episode 39 (180s)\tMean: 21.25\tMoving Avg: 11.33\n",
      "Episode 40 (187s)\tMean: 21.98\tMoving Avg: 11.6\n",
      "Episode 41 (191s)\tMean: 21.98\tMoving Avg: 11.85\n",
      "Episode 42 (192s)\tMean: 24.79\tMoving Avg: 12.16\n",
      "Episode 43 (195s)\tMean: 23.08\tMoving Avg: 12.41\n",
      "Episode 44 (199s)\tMean: 24.77\tMoving Avg: 12.69\n",
      "Episode 45 (202s)\tMean: 29.83\tMoving Avg: 13.07\n",
      "Episode 46 (204s)\tMean: 29.8\tMoving Avg: 13.44\n",
      "Episode 47 (206s)\tMean: 31.14\tMoving Avg: 13.81\n",
      "Episode 48 (208s)\tMean: 30.22\tMoving Avg: 14.15\n",
      "Episode 49 (210s)\tMean: 32.44\tMoving Avg: 14.53\n",
      "Episode 50 (213s)\tMean: 34.35\tMoving Avg: 14.92\n",
      "Episode 51 (214s)\tMean: 32.4\tMoving Avg: 15.27\n",
      "Episode 52 (215s)\tMean: 32.76\tMoving Avg: 15.6\n",
      "Episode 53 (215s)\tMean: 33.74\tMoving Avg: 15.95\n",
      "Episode 54 (215s)\tMean: 33.51\tMoving Avg: 16.27\n",
      "Episode 55 (215s)\tMean: 33.19\tMoving Avg: 16.58\n",
      "Episode 56 (215s)\tMean: 35.67\tMoving Avg: 16.92\n",
      "Episode 57 (214s)\tMean: 36.15\tMoving Avg: 17.26\n",
      "Episode 58 (215s)\tMean: 36.96\tMoving Avg: 17.6\n",
      "Episode 59 (215s)\tMean: 35.76\tMoving Avg: 17.9\n",
      "Episode 60 (216s)\tMean: 36.41\tMoving Avg: 18.21\n",
      "Episode 61 (215s)\tMean: 36.88\tMoving Avg: 18.52\n",
      "Episode 62 (215s)\tMean: 36.79\tMoving Avg: 18.81\n",
      "Episode 63 (215s)\tMean: 37.05\tMoving Avg: 19.1\n",
      "Episode 64 (215s)\tMean: 37.66\tMoving Avg: 19.39\n",
      "Episode 65 (215s)\tMean: 37.48\tMoving Avg: 19.67\n",
      "Episode 66 (214s)\tMean: 38.6\tMoving Avg: 19.96\n",
      "Episode 67 (214s)\tMean: 38.61\tMoving Avg: 20.24\n",
      "Episode 68 (214s)\tMean: 38.12\tMoving Avg: 20.5\n",
      "Episode 69 (214s)\tMean: 38.35\tMoving Avg: 20.76\n",
      "Episode 70 (214s)\tMean: 38.21\tMoving Avg: 21.01\n",
      "Episode 71 (214s)\tMean: 38.6\tMoving Avg: 21.26\n",
      "Episode 72 (214s)\tMean: 38.08\tMoving Avg: 21.49\n",
      "Episode 73 (214s)\tMean: 36.56\tMoving Avg: 21.7\n",
      "Episode 74 (214s)\tMean: 36.57\tMoving Avg: 21.9\n",
      "Episode 75 (214s)\tMean: 37.89\tMoving Avg: 22.11\n",
      "Episode 76 (214s)\tMean: 38.57\tMoving Avg: 22.33\n",
      "Episode 77 (214s)\tMean: 38.33\tMoving Avg: 22.53\n",
      "Episode 78 (214s)\tMean: 37.99\tMoving Avg: 22.73\n",
      "Episode 79 (213s)\tMean: 37.46\tMoving Avg: 22.92\n",
      "Episode 81 (221s)\tMean: 38.3\tMoving Avg: 23.29\n",
      "Episode 82 (214s)\tMean: 38.16\tMoving Avg: 23.47\n",
      "Episode 84 (214s)\tMean: 38.64\tMoving Avg: 23.83\n",
      "Episode 85 (214s)\tMean: 39.23\tMoving Avg: 24.01\n",
      "Episode 86 (214s)\tMean: 39.14\tMoving Avg: 24.19\n",
      "Episode 87 (214s)\tMean: 38.93\tMoving Avg: 24.36\n",
      "Episode 88 (214s)\tMean: 39.03\tMoving Avg: 24.52\n",
      "Episode 89 (215s)\tMean: 38.14\tMoving Avg: 24.68\n",
      "Episode 90 (214s)\tMean: 39.09\tMoving Avg: 24.84\n",
      "Episode 91 (215s)\tMean: 38.88\tMoving Avg: 24.99\n",
      "Episode 92 (214s)\tMean: 38.8\tMoving Avg: 25.14\n",
      "Episode 93 (215s)\tMean: 38.17\tMoving Avg: 25.28\n",
      "Episode 95 (215s)\tMean: 36.85\tMoving Avg: 25.52\n",
      "Episode 96 (214s)\tMean: 38.17\tMoving Avg: 25.65\n",
      "Episode 97 (214s)\tMean: 38.58\tMoving Avg: 25.78\n",
      "Episode 98 (214s)\tMean: 38.14\tMoving Avg: 25.91\n",
      "Episode 99 (214s)\tMean: 37.7\tMoving Avg: 26.03\n",
      "Episode 100 (215s)\tMean: 38.8\tMoving Avg: 26.16\n",
      "Episode 101 (213s)\tMean: 36.47\tMoving Avg: 26.52\n",
      "Episode 102 (217s)\tMean: 37.8\tMoving Avg: 26.88\n",
      "Episode 103 (217s)\tMean: 37.54\tMoving Avg: 27.23\n",
      "Episode 104 (218s)\tMean: 38.56\tMoving Avg: 27.59\n",
      "Episode 105 (215s)\tMean: 37.16\tMoving Avg: 27.93\n",
      "Episode 106 (213s)\tMean: 37.2\tMoving Avg: 28.27\n",
      "Episode 107 (214s)\tMean: 38.03\tMoving Avg: 28.61\n",
      "Episode 108 (216s)\tMean: 39.16\tMoving Avg: 28.96\n",
      "Episode 109 (217s)\tMean: 38.98\tMoving Avg: 29.3\n",
      "Episode 110 (217s)\tMean: 37.7\tMoving Avg: 29.61\n",
      "Episode 111 (217s)\tMean: 37.86\tMoving Avg: 29.91\n",
      "Episode 112 (217s)\tMean: 37.57\tMoving Avg: 30.23\n",
      "\n",
      "Environment solved in 112 episodes!\tAverage Score: 30.225224324413574\n"
     ]
    },
    {
     "ename": "NameError",
     "evalue": "name 'elabsed_time' is not defined",
     "output_type": "error",
     "traceback": [
      "\u001b[0;31m---------------------------------------------------------------------------\u001b[0m",
      "\u001b[0;31mNameError\u001b[0m                                 Traceback (most recent call last)",
      "\u001b[0;32m<ipython-input-16-81a29b241173>\u001b[0m in \u001b[0;36m<module>\u001b[0;34m()\u001b[0m\n\u001b[1;32m      6\u001b[0m \u001b[0mt1\u001b[0m \u001b[0;34m=\u001b[0m \u001b[0mtime\u001b[0m\u001b[0;34m.\u001b[0m\u001b[0mtime\u001b[0m\u001b[0;34m(\u001b[0m\u001b[0;34m)\u001b[0m\u001b[0;34m\u001b[0m\u001b[0m\n\u001b[1;32m      7\u001b[0m \u001b[0melapsed_time\u001b[0m \u001b[0;34m=\u001b[0m \u001b[0;34m(\u001b[0m\u001b[0mt1\u001b[0m \u001b[0;34m-\u001b[0m \u001b[0mt0\u001b[0m\u001b[0;34m)\u001b[0m \u001b[0;34m/\u001b[0m \u001b[0;36m60.0\u001b[0m\u001b[0;34m\u001b[0m\u001b[0m\n\u001b[0;32m----> 8\u001b[0;31m \u001b[0mprint\u001b[0m\u001b[0;34m(\u001b[0m\u001b[0;34mf\"\\nElapsed Time: {round(elabsed_time, 2)} mins\"\u001b[0m\u001b[0;34m)\u001b[0m\u001b[0;34m\u001b[0m\u001b[0m\n\u001b[0m",
      "\u001b[0;31mNameError\u001b[0m: name 'elabsed_time' is not defined"
     ]
    }
   ],
   "source": [
    "t0 = time.time()\n",
    " \n",
    "with active_session():\n",
    "    scores = ddpg(max_t=MAX_T)\n",
    "\n",
    "t1 = time.time()\n",
    "elapsed_time = (t1 - t0) / 60.0\n",
    "print(f\"\\nElapsed Time: {round(elapsed_time, 2)} mins\")"
   ]
  },
  {
   "cell_type": "markdown",
   "metadata": {},
   "source": [
    "For the sake of not wasting any more run time to replicate the results for a typo, i'll leave the error message there for now."
   ]
  },
  {
   "cell_type": "code",
   "execution_count": 17,
   "metadata": {},
   "outputs": [
    {
     "name": "stdout",
     "output_type": "stream",
     "text": [
      "\n",
      "Elapsed Time: 352.7 mins\n"
     ]
    }
   ],
   "source": [
    "print(f\"\\nElapsed Time: {round(elapsed_time, 2)} mins\")"
   ]
  },
  {
   "cell_type": "markdown",
   "metadata": {},
   "source": [
    "When finished training, you can close the environment."
   ]
  },
  {
   "cell_type": "code",
   "execution_count": 18,
   "metadata": {},
   "outputs": [],
   "source": [
    "env.close()"
   ]
  },
  {
   "cell_type": "markdown",
   "metadata": {},
   "source": [
    "### 5. Visualizing results and saving best model\n",
    "\n",
    "Below we can see the model scores for each episode combined with the 100 episode moving average. The moving average trend is useful to show the overall progress of learning when individual episodes may appear noisy."
   ]
  },
  {
   "cell_type": "code",
   "execution_count": 22,
   "metadata": {},
   "outputs": [
    {
     "data": {
      "image/png": "[encoded data removed]",
      "text/plain": [
       "<matplotlib.figure.Figure at 0x7f985db22240>"
      ]
     },
     "metadata": {
      "needs_background": "light"
     },
     "output_type": "display_data"
    }
   ],
   "source": [
    "# plot the scores\n",
    "fig = plt.figure(figsize=(9, 6))\n",
    "ax = fig.add_subplot(111)\n",
    "plt.plot(np.arange(len(scores)), scores, label=\"Raw Score\")\n",
    "\n",
    "# plot the moving average\n",
    "scores_series = pd.Series(scores)\n",
    "windows = scores_series.rolling(100, min_periods=1)\n",
    "ma = windows.mean().dropna()\n",
    "x, y = ma.index, ma.values\n",
    "plt.plot(x, y, label=\"Moving Average\")\n",
    "\n",
    "plt.xlabel(\"Episode #\")\n",
    "plt.ylabel(\"Score\")\n",
    "plt.title(\"Agent performance over time\")\n",
    "plt.legend()\n",
    "\n",
    "fig.savefig(\"performance.png\")"
   ]
  },
  {
   "cell_type": "code",
   "execution_count": 23,
   "metadata": {},
   "outputs": [],
   "source": [
    "# save model\n",
    "torch.save(agent.actor_local.state_dict(), \"actor_checkpoint.pth\")\n",
    "torch.save(agent.critic_local.state_dict(), \"critic_checkpoint.pth\")"
   ]
  },
  {
   "cell_type": "markdown",
   "metadata": {},
   "source": [
    "### 6. Potential Improvements\n",
    "\n",
    "Some additional ideas that could lead to better performance or interesting insights include:\n",
    "\n",
    "* Different model architectures (more/less layers, larger/smaller layer sizes)\n",
    "* Prioritized replay buffer\n",
    "* Training on the 1-arm environment versus the 20-arm environment may lead to different performance\n",
    "* Different policy gradient algorithms like A3C or SAC"
   ]
  }
 ],
 "metadata": {
  "kernelspec": {
   "display_name": "Python 3",
   "language": "python",
   "name": "python3"
  }
 },
 "nbformat": 4,
 "nbformat_minor": 2
}
